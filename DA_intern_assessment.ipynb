{
 "cells": [
  {
   "cell_type": "markdown",
   "id": "7fb838ff",
   "metadata": {},
   "source": [
    "# Nikhil Bhosale\n",
    "### nbhosale@hawk.iit.edu\n",
    "### DA_INTERN_ASSESSMENT - Solutions"
   ]
  },
  {
   "cell_type": "code",
   "execution_count": 1,
   "id": "e503f440",
   "metadata": {},
   "outputs": [],
   "source": [
    "import pandas as pd\n",
    "import numpy as np \n",
    "import matplotlib.pyplot as plt"
   ]
  },
  {
   "cell_type": "code",
   "execution_count": 2,
   "id": "8cee10b1",
   "metadata": {},
   "outputs": [],
   "source": [
    "import warnings\n",
    "warnings.filterwarnings(\"ignore\")"
   ]
  },
  {
   "cell_type": "code",
   "execution_count": 3,
   "id": "c13b3e0f",
   "metadata": {},
   "outputs": [],
   "source": [
    "df = pd.read_csv('social_data.xlsx - Data.csv')"
   ]
  },
  {
   "cell_type": "code",
   "execution_count": 4,
   "id": "9868c085",
   "metadata": {},
   "outputs": [
    {
     "data": {
      "text/html": [
       "<div>\n",
       "<style scoped>\n",
       "    .dataframe tbody tr th:only-of-type {\n",
       "        vertical-align: middle;\n",
       "    }\n",
       "\n",
       "    .dataframe tbody tr th {\n",
       "        vertical-align: top;\n",
       "    }\n",
       "\n",
       "    .dataframe thead th {\n",
       "        text-align: right;\n",
       "    }\n",
       "</style>\n",
       "<table border=\"1\" class=\"dataframe\">\n",
       "  <thead>\n",
       "    <tr style=\"text-align: right;\">\n",
       "      <th></th>\n",
       "      <th>Published Date</th>\n",
       "      <th>Account</th>\n",
       "      <th>Account Type</th>\n",
       "      <th>Campaign Name</th>\n",
       "      <th>Total Impressions</th>\n",
       "      <th>Total Engagements</th>\n",
       "      <th>Media Type</th>\n",
       "    </tr>\n",
       "  </thead>\n",
       "  <tbody>\n",
       "    <tr>\n",
       "      <th>0</th>\n",
       "      <td>03-31-2023 19:55</td>\n",
       "      <td>CSGO</td>\n",
       "      <td>TWITTER</td>\n",
       "      <td>N/A</td>\n",
       "      <td>0</td>\n",
       "      <td>0</td>\n",
       "      <td>Text</td>\n",
       "    </tr>\n",
       "    <tr>\n",
       "      <th>1</th>\n",
       "      <td>03-31-2023 19:49</td>\n",
       "      <td>CSGO</td>\n",
       "      <td>TWITTER</td>\n",
       "      <td>N/A</td>\n",
       "      <td>0</td>\n",
       "      <td>0</td>\n",
       "      <td>Text</td>\n",
       "    </tr>\n",
       "    <tr>\n",
       "      <th>2</th>\n",
       "      <td>03-31-2023 19:49</td>\n",
       "      <td>CSGO</td>\n",
       "      <td>TWITTER</td>\n",
       "      <td>N/A</td>\n",
       "      <td>0</td>\n",
       "      <td>0</td>\n",
       "      <td>Text</td>\n",
       "    </tr>\n",
       "    <tr>\n",
       "      <th>3</th>\n",
       "      <td>03-31-2023 19:49</td>\n",
       "      <td>CSGO</td>\n",
       "      <td>TWITTER</td>\n",
       "      <td>N/A</td>\n",
       "      <td>0</td>\n",
       "      <td>0</td>\n",
       "      <td>Text</td>\n",
       "    </tr>\n",
       "    <tr>\n",
       "      <th>4</th>\n",
       "      <td>03-31-2023 19:43</td>\n",
       "      <td>CSGO</td>\n",
       "      <td>TWITTER</td>\n",
       "      <td>Community Engagement</td>\n",
       "      <td>9517</td>\n",
       "      <td>1215</td>\n",
       "      <td>Video</td>\n",
       "    </tr>\n",
       "  </tbody>\n",
       "</table>\n",
       "</div>"
      ],
      "text/plain": [
       "     Published Date Account Account Type          Campaign Name  \\\n",
       "0  03-31-2023 19:55    CSGO      TWITTER                   N/A    \n",
       "1  03-31-2023 19:49    CSGO      TWITTER                   N/A    \n",
       "2  03-31-2023 19:49    CSGO      TWITTER                   N/A    \n",
       "3  03-31-2023 19:49    CSGO      TWITTER                   N/A    \n",
       "4  03-31-2023 19:43    CSGO      TWITTER  Community Engagement    \n",
       "\n",
       "   Total Impressions  Total Engagements Media Type  \n",
       "0                  0                  0       Text  \n",
       "1                  0                  0       Text  \n",
       "2                  0                  0       Text  \n",
       "3                  0                  0       Text  \n",
       "4               9517               1215      Video  "
      ]
     },
     "execution_count": 4,
     "metadata": {},
     "output_type": "execute_result"
    }
   ],
   "source": [
    "df.head()"
   ]
  },
  {
   "cell_type": "code",
   "execution_count": 5,
   "id": "eb0c1b5b",
   "metadata": {},
   "outputs": [
    {
     "data": {
      "text/html": [
       "<div>\n",
       "<style scoped>\n",
       "    .dataframe tbody tr th:only-of-type {\n",
       "        vertical-align: middle;\n",
       "    }\n",
       "\n",
       "    .dataframe tbody tr th {\n",
       "        vertical-align: top;\n",
       "    }\n",
       "\n",
       "    .dataframe thead th {\n",
       "        text-align: right;\n",
       "    }\n",
       "</style>\n",
       "<table border=\"1\" class=\"dataframe\">\n",
       "  <thead>\n",
       "    <tr style=\"text-align: right;\">\n",
       "      <th></th>\n",
       "      <th>Published_Date</th>\n",
       "      <th>Account</th>\n",
       "      <th>Account_Type</th>\n",
       "      <th>Campaign_Name</th>\n",
       "      <th>Total_Impressions</th>\n",
       "      <th>Total_Engagements</th>\n",
       "      <th>Media_Type</th>\n",
       "    </tr>\n",
       "  </thead>\n",
       "  <tbody>\n",
       "    <tr>\n",
       "      <th>0</th>\n",
       "      <td>03-31-2023 19:55</td>\n",
       "      <td>CSGO</td>\n",
       "      <td>TWITTER</td>\n",
       "      <td>N/A</td>\n",
       "      <td>0</td>\n",
       "      <td>0</td>\n",
       "      <td>Text</td>\n",
       "    </tr>\n",
       "    <tr>\n",
       "      <th>1</th>\n",
       "      <td>03-31-2023 19:49</td>\n",
       "      <td>CSGO</td>\n",
       "      <td>TWITTER</td>\n",
       "      <td>N/A</td>\n",
       "      <td>0</td>\n",
       "      <td>0</td>\n",
       "      <td>Text</td>\n",
       "    </tr>\n",
       "    <tr>\n",
       "      <th>2</th>\n",
       "      <td>03-31-2023 19:49</td>\n",
       "      <td>CSGO</td>\n",
       "      <td>TWITTER</td>\n",
       "      <td>N/A</td>\n",
       "      <td>0</td>\n",
       "      <td>0</td>\n",
       "      <td>Text</td>\n",
       "    </tr>\n",
       "    <tr>\n",
       "      <th>3</th>\n",
       "      <td>03-31-2023 19:49</td>\n",
       "      <td>CSGO</td>\n",
       "      <td>TWITTER</td>\n",
       "      <td>N/A</td>\n",
       "      <td>0</td>\n",
       "      <td>0</td>\n",
       "      <td>Text</td>\n",
       "    </tr>\n",
       "    <tr>\n",
       "      <th>4</th>\n",
       "      <td>03-31-2023 19:43</td>\n",
       "      <td>CSGO</td>\n",
       "      <td>TWITTER</td>\n",
       "      <td>Community Engagement</td>\n",
       "      <td>9517</td>\n",
       "      <td>1215</td>\n",
       "      <td>Video</td>\n",
       "    </tr>\n",
       "  </tbody>\n",
       "</table>\n",
       "</div>"
      ],
      "text/plain": [
       "     Published_Date Account Account_Type          Campaign_Name  \\\n",
       "0  03-31-2023 19:55    CSGO      TWITTER                   N/A    \n",
       "1  03-31-2023 19:49    CSGO      TWITTER                   N/A    \n",
       "2  03-31-2023 19:49    CSGO      TWITTER                   N/A    \n",
       "3  03-31-2023 19:49    CSGO      TWITTER                   N/A    \n",
       "4  03-31-2023 19:43    CSGO      TWITTER  Community Engagement    \n",
       "\n",
       "   Total_Impressions  Total_Engagements Media_Type  \n",
       "0                  0                  0       Text  \n",
       "1                  0                  0       Text  \n",
       "2                  0                  0       Text  \n",
       "3                  0                  0       Text  \n",
       "4               9517               1215      Video  "
      ]
     },
     "execution_count": 5,
     "metadata": {},
     "output_type": "execute_result"
    }
   ],
   "source": [
    "df = df.rename(columns={'Published Date': 'Published_Date', 'Account Type': 'Account_Type', 'Campaign Name': 'Campaign_Name', 'Total Impressions': 'Total_Impressions', 'Total Engagements': 'Total_Engagements', 'Media Type': 'Media_Type'})\n",
    "df.head()"
   ]
  },
  {
   "cell_type": "code",
   "execution_count": 6,
   "id": "52a73f1e",
   "metadata": {},
   "outputs": [
    {
     "data": {
      "text/plain": [
       "Published_Date       0\n",
       "Account              0\n",
       "Account_Type         0\n",
       "Campaign_Name        0\n",
       "Total_Impressions    0\n",
       "Total_Engagements    0\n",
       "Media_Type           0\n",
       "dtype: int64"
      ]
     },
     "execution_count": 6,
     "metadata": {},
     "output_type": "execute_result"
    }
   ],
   "source": [
    "#checking null values:\n",
    "df.isna().sum()"
   ]
  },
  {
   "cell_type": "markdown",
   "id": "863bd837",
   "metadata": {},
   "source": [
    "## 1. What is the typical engagement rate we can expect? What’s the likelihood that we can achieve a 15% engagement rate?"
   ]
  },
  {
   "cell_type": "code",
   "execution_count": 7,
   "id": "f012e110",
   "metadata": {},
   "outputs": [],
   "source": [
    "# def calculate_engagement_rate(total_engagements, total_impressions):\n",
    "#     engagement_rate = (sum(total_engagements) / sum(total_impressions)) * 100\n",
    "#     return engagement_rate"
   ]
  },
  {
   "cell_type": "code",
   "execution_count": 8,
   "id": "60b44a59",
   "metadata": {},
   "outputs": [],
   "source": [
    "df['engagement_rate'] = (df['Total_Engagements'] / df['Total_Impressions']) * 100"
   ]
  },
  {
   "cell_type": "code",
   "execution_count": 9,
   "id": "9182bf78",
   "metadata": {},
   "outputs": [
    {
     "data": {
      "text/html": [
       "<div>\n",
       "<style scoped>\n",
       "    .dataframe tbody tr th:only-of-type {\n",
       "        vertical-align: middle;\n",
       "    }\n",
       "\n",
       "    .dataframe tbody tr th {\n",
       "        vertical-align: top;\n",
       "    }\n",
       "\n",
       "    .dataframe thead th {\n",
       "        text-align: right;\n",
       "    }\n",
       "</style>\n",
       "<table border=\"1\" class=\"dataframe\">\n",
       "  <thead>\n",
       "    <tr style=\"text-align: right;\">\n",
       "      <th></th>\n",
       "      <th>Published_Date</th>\n",
       "      <th>Account</th>\n",
       "      <th>Account_Type</th>\n",
       "      <th>Campaign_Name</th>\n",
       "      <th>Total_Impressions</th>\n",
       "      <th>Total_Engagements</th>\n",
       "      <th>Media_Type</th>\n",
       "      <th>engagement_rate</th>\n",
       "    </tr>\n",
       "  </thead>\n",
       "  <tbody>\n",
       "    <tr>\n",
       "      <th>0</th>\n",
       "      <td>03-31-2023 19:55</td>\n",
       "      <td>CSGO</td>\n",
       "      <td>TWITTER</td>\n",
       "      <td>N/A</td>\n",
       "      <td>0</td>\n",
       "      <td>0</td>\n",
       "      <td>Text</td>\n",
       "      <td>NaN</td>\n",
       "    </tr>\n",
       "    <tr>\n",
       "      <th>1</th>\n",
       "      <td>03-31-2023 19:49</td>\n",
       "      <td>CSGO</td>\n",
       "      <td>TWITTER</td>\n",
       "      <td>N/A</td>\n",
       "      <td>0</td>\n",
       "      <td>0</td>\n",
       "      <td>Text</td>\n",
       "      <td>NaN</td>\n",
       "    </tr>\n",
       "    <tr>\n",
       "      <th>2</th>\n",
       "      <td>03-31-2023 19:49</td>\n",
       "      <td>CSGO</td>\n",
       "      <td>TWITTER</td>\n",
       "      <td>N/A</td>\n",
       "      <td>0</td>\n",
       "      <td>0</td>\n",
       "      <td>Text</td>\n",
       "      <td>NaN</td>\n",
       "    </tr>\n",
       "    <tr>\n",
       "      <th>3</th>\n",
       "      <td>03-31-2023 19:49</td>\n",
       "      <td>CSGO</td>\n",
       "      <td>TWITTER</td>\n",
       "      <td>N/A</td>\n",
       "      <td>0</td>\n",
       "      <td>0</td>\n",
       "      <td>Text</td>\n",
       "      <td>NaN</td>\n",
       "    </tr>\n",
       "    <tr>\n",
       "      <th>4</th>\n",
       "      <td>03-31-2023 19:43</td>\n",
       "      <td>CSGO</td>\n",
       "      <td>TWITTER</td>\n",
       "      <td>Community Engagement</td>\n",
       "      <td>9517</td>\n",
       "      <td>1215</td>\n",
       "      <td>Video</td>\n",
       "      <td>12.766628</td>\n",
       "    </tr>\n",
       "  </tbody>\n",
       "</table>\n",
       "</div>"
      ],
      "text/plain": [
       "     Published_Date Account Account_Type          Campaign_Name  \\\n",
       "0  03-31-2023 19:55    CSGO      TWITTER                   N/A    \n",
       "1  03-31-2023 19:49    CSGO      TWITTER                   N/A    \n",
       "2  03-31-2023 19:49    CSGO      TWITTER                   N/A    \n",
       "3  03-31-2023 19:49    CSGO      TWITTER                   N/A    \n",
       "4  03-31-2023 19:43    CSGO      TWITTER  Community Engagement    \n",
       "\n",
       "   Total_Impressions  Total_Engagements Media_Type  engagement_rate  \n",
       "0                  0                  0       Text              NaN  \n",
       "1                  0                  0       Text              NaN  \n",
       "2                  0                  0       Text              NaN  \n",
       "3                  0                  0       Text              NaN  \n",
       "4               9517               1215      Video        12.766628  "
      ]
     },
     "execution_count": 9,
     "metadata": {},
     "output_type": "execute_result"
    }
   ],
   "source": [
    "df.head()"
   ]
  },
  {
   "cell_type": "code",
   "execution_count": 10,
   "id": "0cedbf03",
   "metadata": {},
   "outputs": [
    {
     "name": "stdout",
     "output_type": "stream",
     "text": [
      "Likelihood of achieving a 15% engagement rate: 0.06496119574590399\n"
     ]
    }
   ],
   "source": [
    "# Calculate the proportion of instances where engagement rate is 15% or higher\n",
    "likelihood = (df['engagement_rate'] >= 15).mean()\n",
    "\n",
    "print(\"Likelihood of achieving a 15% engagement rate:\", likelihood)"
   ]
  },
  {
   "cell_type": "markdown",
   "id": "4fa9104d",
   "metadata": {},
   "source": [
    "## 2. Does the day of the week and time of posting affect engagement rates?"
   ]
  },
  {
   "cell_type": "code",
   "execution_count": 11,
   "id": "7cdfdb51",
   "metadata": {},
   "outputs": [
    {
     "data": {
      "image/png": "[encoded data removed]",
      "text/plain": [
       "<Figure size 720x432 with 1 Axes>"
      ]
     },
     "metadata": {
      "needs_background": "light"
     },
     "output_type": "display_data"
    },
    {
     "data": {
      "image/png": "[encoded data removed]",
      "text/plain": [
       "<Figure size 720x432 with 1 Axes>"
      ]
     },
     "metadata": {
      "needs_background": "light"
     },
     "output_type": "display_data"
    }
   ],
   "source": [
    "# Convert the \"Published Date\" column to datetime format\n",
    "df['Published_Date'] = pd.to_datetime(df['Published_Date'])\n",
    "\n",
    "# Extract the day of the week and time of posting into separate columns\n",
    "df['Day of Week'] = df['Published_Date'].dt.day_name()\n",
    "df['Time of Posting'] = df['Published_Date'].dt.strftime('%H:%M')\n",
    "\n",
    "# Calculate average engagement rate by day of the week\n",
    "avg_engagement_by_day = df.groupby('Day of Week')['Total_Engagements'].mean()\n",
    "\n",
    "# Calculate average engagement rate by time of posting\n",
    "avg_engagement_by_time = df.groupby('Time of Posting')['Total_Engagements'].mean()\n",
    "\n",
    "# Plotting the average engagement rates by day of the week\n",
    "plt.figure(figsize=(10, 6))\n",
    "avg_engagement_by_day.plot(kind='bar', color='blue')\n",
    "plt.title('Average Engagement Rate by Day of the Week')\n",
    "plt.xlabel('Day of the Week')\n",
    "plt.ylabel('Average Engagement Rate')\n",
    "plt.xticks(rotation=45)\n",
    "plt.show()\n",
    "\n",
    "# Plotting the average engagement rates by time of posting\n",
    "plt.figure(figsize=(10, 6))\n",
    "avg_engagement_by_time.plot(kind='line', color='red')\n",
    "plt.title('Average Engagement Rate by Time of Posting')\n",
    "plt.xlabel('Time of Posting')\n",
    "plt.ylabel('Average Engagement Rate')\n",
    "plt.xticks(rotation=45)\n",
    "plt.show()"
   ]
  },
  {
   "cell_type": "markdown",
   "id": "93f63cd2",
   "metadata": {},
   "source": [
    "#### According to the graph \"Average Engagement Rate by Day of the Week,\" Tuesday has the highest average engagement rate, while Sunday, Thursday, and Tuesday have the high average engagement rates overall. Saturday has the lowest average engagement rate throughout the entire week.\n",
    " \n",
    "#### We can see that the posting time has an impact on the engagement rate as well; posts between 13:16 and 14:58 will have the highest and maximum engagement rate. The lowest engagement rate for posts is generally between 11:30 and 13:16."
   ]
  },
  {
   "cell_type": "markdown",
   "id": "1b89d993",
   "metadata": {},
   "source": [
    "## 3. How are our game titles doing in terms of social performance? Is there a specific game we should focus more on or less?"
   ]
  },
  {
   "cell_type": "code",
   "execution_count": 12,
   "id": "89fb3597",
   "metadata": {},
   "outputs": [
    {
     "name": "stdout",
     "output_type": "stream",
     "text": [
      "General             2271\n",
      "DOTA2                803\n",
      "CSGO                 270\n",
      "Valorant              60\n",
      "Content Creators      53\n",
      "General               22\n",
      "Name: Account, dtype: int64\n",
      "Number of Entries: 3479\n"
     ]
    }
   ],
   "source": [
    "unique_entities = df['Account'].value_counts()\n",
    "num_entries = len(df)\n",
    "\n",
    "print(unique_entities)\n",
    "print(\"Number of Entries:\", num_entries)"
   ]
  },
  {
   "cell_type": "code",
   "execution_count": 13,
   "id": "6443ceb2",
   "metadata": {},
   "outputs": [
    {
     "name": "stdout",
     "output_type": "stream",
     "text": [
      "General             2293\n",
      "dota2                803\n",
      "csgo                 270\n",
      "valorant              60\n",
      "content creators      53\n",
      "Name: Account, dtype: int64\n",
      "Number of Entries: 3479\n"
     ]
    }
   ],
   "source": [
    "df['Account'] = df['Account'].str.lower()\n",
    "df['Account'] = df['Account'].str.strip()\n",
    "df.loc[df['Account'] == 'general', 'Account'] = 'General'\n",
    "\n",
    "unique_entities = df['Account'].value_counts()\n",
    "num_entries = len(df)\n",
    "\n",
    "print(unique_entities)\n",
    "print(\"Number of Entries:\", num_entries)"
   ]
  },
  {
   "cell_type": "code",
   "execution_count": 14,
   "id": "6f3bdd21",
   "metadata": {
    "scrolled": false
   },
   "outputs": [
    {
     "data": {
      "image/png": "[encoded data removed]",
      "text/plain": [
       "<Figure size 720x360 with 1 Axes>"
      ]
     },
     "metadata": {
      "needs_background": "light"
     },
     "output_type": "display_data"
    },
    {
     "data": {
      "image/png": "[encoded data removed]",
      "text/plain": [
       "<Figure size 720x360 with 1 Axes>"
      ]
     },
     "metadata": {
      "needs_background": "light"
     },
     "output_type": "display_data"
    }
   ],
   "source": [
    "# Group the data by game title and calculate the total impressions and engagements\n",
    "game_metrics = df.groupby('Account')['Total_Impressions', 'Total_Engagements'].sum()\n",
    "\n",
    "# Plot the total impressions for each game title\n",
    "fig, ax = plt.subplots(figsize=(10, 5))\n",
    "game_metrics['Total_Impressions'].plot(kind='bar', ax=ax)\n",
    "plt.xlabel('Account')\n",
    "plt.ylabel('Total Impressions')\n",
    "plt.title('Total Impressions by Game Title')\n",
    "\n",
    "# Adjust the y-axis scale to logarithmic\n",
    "ax.set_yscale('log')\n",
    "\n",
    "# Rotate the x-axis labels for better readability\n",
    "plt.xticks(rotation=45)\n",
    "\n",
    "plt.show()\n",
    "\n",
    "# Plot the total engagements for each game title\n",
    "fig, ax = plt.subplots(figsize=(10, 5))\n",
    "game_metrics['Total_Engagements'].plot(kind='bar', ax=ax)\n",
    "plt.xlabel('Account')\n",
    "plt.ylabel('Total Engagements')\n",
    "plt.title('Total Engagements by Game Title')\n",
    "\n",
    "# Adjust the y-axis scale to logarithmic\n",
    "ax.set_yscale('log')\n",
    "\n",
    "# Rotate the x-axis labels for better readability\n",
    "plt.xticks(rotation=45)\n",
    "\n",
    "plt.show()\n"
   ]
  },
  {
   "cell_type": "markdown",
   "id": "32a80912",
   "metadata": {},
   "source": [
    "#### 1) In this case, \"game titles\" play a significant role in terms of \"social performance.\" \n",
    "\n",
    "#### 2) We could see that \"engagement by game title\" and \"general game titles\" had the highest impressions, and in my opinion, \"general game titles\" are simply other games.\n",
    "\n",
    "#### 3) additionally, DOTA2 has the \"highest engagement by game title\" and CSGO has the \"highest impression by title.\" \n",
    "\n",
    "#### 4) conversely, valorant and content producers had the \"lowest overall impression\" and \"total engagement by game title.\"\n",
    "\n",
    "#### 5) CSGO and DOTA2 are performing well, so we can focus less on them and more on Valorant games to boost social media performance by impressions and engagements.\n"
   ]
  },
  {
   "cell_type": "markdown",
   "id": "c89b5aa2",
   "metadata": {},
   "source": [
    "## 4. What media type performs the best? "
   ]
  },
  {
   "cell_type": "code",
   "execution_count": 15,
   "id": "f2aaa88a",
   "metadata": {},
   "outputs": [
    {
     "data": {
      "image/png": "[encoded data removed]",
      "text/plain": [
       "<Figure size 720x360 with 1 Axes>"
      ]
     },
     "metadata": {
      "needs_background": "light"
     },
     "output_type": "display_data"
    },
    {
     "name": "stdout",
     "output_type": "stream",
     "text": [
      "Best Performing Media Type: Photo\n",
      "Total Engagements: 2167739\n"
     ]
    }
   ],
   "source": [
    "\n",
    "# Group the data by media type and calculate the total engagements\n",
    "media_metrics = df.groupby('Media_Type')['Total_Engagements'].sum()\n",
    "\n",
    "# Plot the total engagements for each media type\n",
    "media_metrics.plot(kind='line', figsize=(10, 5))\n",
    "plt.xlabel('Media Type')\n",
    "plt.ylabel('Total Engagements')\n",
    "plt.title('Total Engagements by Media Type')\n",
    "plt.yscale('log')  # Set logarithmic scale for the y-axis\n",
    "\n",
    "plt.show()\n",
    "\n",
    "# Find the media type with the highest total engagements\n",
    "best_media_type = media_metrics.idxmax()\n",
    "max_engagements = media_metrics.max()\n",
    "\n",
    "print(\"Best Performing Media Type:\", best_media_type)\n",
    "print(\"Total Engagements:\", max_engagements)\n"
   ]
  },
  {
   "cell_type": "markdown",
   "id": "9fbb99ed",
   "metadata": {},
   "source": [
    "#### The best performing media type is \"Photo\" with a total of 2,167,739 engagements. This indicates that photos have generated the highest level of engagement compared to other media types in our dataset. On other hand Album has lowest number of engagements so it is least performing media type."
   ]
  },
  {
   "cell_type": "markdown",
   "id": "a158735d",
   "metadata": {},
   "source": [
    "## 5. What is our best performing campaign? "
   ]
  },
  {
   "cell_type": "code",
   "execution_count": 16,
   "id": "998e1203",
   "metadata": {},
   "outputs": [
    {
     "name": "stdout",
     "output_type": "stream",
     "text": [
      "N/A                      1485\n",
      "Community Engagement     1411\n",
      "Evil Exhibited            420\n",
      "Evergreen                 163\n",
      "Name: Campaign_Name, dtype: int64\n",
      "Number of Entries: 3479\n"
     ]
    }
   ],
   "source": [
    "unique_entities = df['Campaign_Name'].value_counts()\n",
    "num_entries = len(df)\n",
    "print(unique_entities)\n",
    "print(\"Number of Entries:\", num_entries)"
   ]
  },
  {
   "cell_type": "code",
   "execution_count": 17,
   "id": "70d091f3",
   "metadata": {},
   "outputs": [
    {
     "data": {
      "image/png": "[encoded data removed]",
      "text/plain": [
       "<Figure size 720x360 with 1 Axes>"
      ]
     },
     "metadata": {
      "needs_background": "light"
     },
     "output_type": "display_data"
    },
    {
     "name": "stdout",
     "output_type": "stream",
     "text": [
      "Best Performing Campaign: Community Engagement \n",
      "Total Engagements: 2044767\n"
     ]
    }
   ],
   "source": [
    "# Group the data by campaign and calculate the total engagements\n",
    "\n",
    "campaign_metrics = df.groupby('Campaign_Name')['Total_Engagements'].sum()\n",
    "\n",
    "campaign_metrics.plot(kind='bar', figsize=(10, 5))\n",
    "plt.xlabel('Campaign')\n",
    "plt.ylabel('Total Engagements')\n",
    "plt.title('Total Engagements by Campaign')\n",
    "plt.show()\n",
    "\n",
    "# Find the campaign with the highest total engagements\n",
    "best_campaign = campaign_metrics.idxmax()\n",
    "total_engagements = campaign_metrics.loc[best_campaign]\n",
    "\n",
    "print(\"Best Performing Campaign:\", best_campaign)\n",
    "print(\"Total Engagements:\", total_engagements)"
   ]
  },
  {
   "cell_type": "markdown",
   "id": "ce0d321d",
   "metadata": {},
   "source": [
    "#### The community engagement campaign, which has received the most engagements (2044767), is the top performer in this case. Conversely, Evergreen campaign has the lowest participation rates. Furthermore, since N/A entities also have engagement and impression entires, in addition to having the mid level lower than Community and greater than Evergreen, so are unable to eliminate N/A."
   ]
  },
  {
   "cell_type": "markdown",
   "id": "3c606ccc",
   "metadata": {},
   "source": [
    "## 6. Define out a posting strategy for our social channels based on your discoveries."
   ]
  },
  {
   "cell_type": "markdown",
   "id": "472bf5be",
   "metadata": {},
   "source": [
    "#### 1) Game Titles: Focus on promoting the high-performing game titles, such as DOTA2 and CSGO, which have shown the highest engagement and impression rates. Allocate more content and resources to these games to leverage their success and engage with the audience.\n",
    "\n",
    "#### 2) Posting Days and Times: Schedule your posts on Tuesday, Sunday, and Thursday, as these days have demonstrated higher average engagement rates. Additionally, aim to post during the peak engagement time window, between 13:16 and 14:58. Avoid posting during the lower engagement time period, typically between 11:30 and 13:16.\n",
    "\n",
    "#### 3) Media Types: Emphasize the use of photos in your social media content, as they have shown the highest level of engagement. Incorporate visually appealing images related to the games and campaigns to capture the audience's attention and generate more interactions.\n",
    "\n",
    "#### 4) Campaign Focus: Give priority to the \"Community Engagement\" campaign, as it has received the highest number of engagements. Allocate resources and promotional efforts to this campaign to drive further engagement and participation from the community. Monitor the performance of other campaigns and adjust your strategy accordingly.\n",
    "\n",
    "#### 5) Continuous Monitoring and Adaptation: Regularly track and analyze the social performance metrics to evaluate the effectiveness of your posting strategy. Stay updated with trends, engage with your audience through comments and messages, and adapt your approach based on their feedback and interests."
   ]
  },
  {
   "cell_type": "markdown",
   "id": "a7613703",
   "metadata": {},
   "source": [
    "## 7. What suggestions would you give to the social media team if they want to expand their presence (e.g. if our CSGO youtube channel is doing well should we expand to TikTok)?"
   ]
  },
  {
   "cell_type": "markdown",
   "id": "ef8c2cd9",
   "metadata": {},
   "source": [
    "#### 1) Analyze Audience Demographics: Understand the demographics and interests of current audience on platforms like YouTube for CSGO. Identify if there is an overlap with the user base on other platforms such as TikTok. If there is a potential alignment, it can be a good opportunity to expand to TikTok and tap into a new and potentially younger audience.\n",
    "\n",
    "#### 2) Assess Platform Relevance: Evaluate the relevance and suitability of each platform based on the nature of your content and target audience. Consider the type of content that performs well on TikTok and assess if it aligns with your brand and CSGO channel content. Determine if TikTok's short-form, highly engaging and visually appealing videos can effectively showcase CSGO content and attract the desired audience.\n",
    "\n",
    "#### 3) Utilize Cross-Promotion: Leverage your existing social media channels, such as the CSGO YouTube channel, to promote and drive traffic to your new platform. Mention and link your TikTok account in your YouTube video descriptions, channel banner, or pinned comments. Encourage your YouTube subscribers to follow you on TikTok for additional content and behind-the-scenes glimpses.\n",
    "\n",
    "#### 4) Monitor Performance: Regularly analyze the performance metrics of your TikTok account to assess its effectiveness in reaching and engaging with the desired audience. Pay attention to factors such as views, likes, shares, and comments. Adjust your content strategy based on the insights you gather and continue to optimize your presence on the platform.\n",
    "\n",
    "#### 5) Open to New Opportunities: While expanding to TikTok can be a valuable step, be open to exploring other emerging platforms that align with your target audience and brand. Keep an eye on new trends and platforms that may provide unique opportunities for expanding your social media presence.\n",
    "\n",
    "#### So, expanding to new platforms requires a thoughtful approach and investment of resources. It's essential to assess the potential benefits, align with your brand strategy, and evaluate the platform's relevance to your target audience. With the right content and strategy, expanding your presence can help you reach new audiences and drive further growth."
   ]
  }
 ],
 "metadata": {
  "kernelspec": {
   "display_name": "Python 3 (ipykernel)",
   "language": "python",
   "name": "python3"
  },
  "language_info": {
   "codemirror_mode": {
    "name": "ipython",
    "version": 3
   },
   "file_extension": ".py",
   "mimetype": "text/x-python",
   "name": "python",
   "nbconvert_exporter": "python",
   "pygments_lexer": "ipython3",
   "version": "3.9.12"
  }
 },
 "nbformat": 4,
 "nbformat_minor": 5
}
